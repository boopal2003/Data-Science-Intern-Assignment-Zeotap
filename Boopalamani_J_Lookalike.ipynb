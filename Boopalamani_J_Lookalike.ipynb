{
 "cells": [
  {
   "cell_type": "markdown",
   "id": "8529f40d",
   "metadata": {},
   "source": [
    "# Task 2: Lookalike Model"
   ]
  },
  {
   "cell_type": "code",
   "execution_count": 1,
   "id": "618e2b4d",
   "metadata": {},
   "outputs": [],
   "source": [
    "import pandas as pd\n",
    "from sklearn.metrics.pairwise import cosine_similarity\n",
    "from sklearn.preprocessing import StandardScaler\n",
    "\n",
    "customers = pd.read_csv(\"Customers.csv\")\n",
    "products =  pd.read_csv(\"Products.csv\")\n",
    "transactions = pd.read_csv(\"Transactions.csv\")"
   ]
  },
  {
   "cell_type": "code",
   "execution_count": 2,
   "id": "01afc28e",
   "metadata": {},
   "outputs": [],
   "source": [
    "merged_data = transactions.merge(customers, on=\"CustomerID\", how=\"inner\").merge(products, on=\"ProductID\", how=\"inner\")"
   ]
  },
  {
   "cell_type": "markdown",
   "id": "faa2d1b1",
   "metadata": {},
   "source": [
    "### Aggregating transaction history for each customer"
   ]
  },
  {
   "cell_type": "code",
   "execution_count": 3,
   "id": "ebaadf3c",
   "metadata": {},
   "outputs": [],
   "source": [
    "customer_data = merged_data.groupby('CustomerID').agg({\n",
    "    'TotalValue': 'sum',\n",
    "    'Quantity': 'sum',\n",
    "    'Category': lambda x: x.mode()[0],  # Most common category purchased\n",
    "    'Region': 'first'  # Region of the customer\n",
    "}).reset_index()\n"
   ]
  },
  {
   "cell_type": "code",
   "execution_count": 4,
   "id": "7dc57533",
   "metadata": {},
   "outputs": [],
   "source": [
    "customer_data = pd.get_dummies(customer_data, columns=['Category', 'Region'], drop_first=True)"
   ]
  },
  {
   "cell_type": "markdown",
   "id": "229c6c5b",
   "metadata": {},
   "source": [
    "### Standardize the data"
   ]
  },
  {
   "cell_type": "code",
   "execution_count": 5,
   "id": "0257ff39",
   "metadata": {},
   "outputs": [],
   "source": [
    "scaler = StandardScaler()\n",
    "scaled_data = scaler.fit_transform(customer_data.iloc[:, 1:])"
   ]
  },
  {
   "cell_type": "markdown",
   "id": "26382ed4",
   "metadata": {},
   "source": [
    "### Calculating cosine similarity"
   ]
  },
  {
   "cell_type": "code",
   "execution_count": 6,
   "id": "3a4d6d98",
   "metadata": {},
   "outputs": [],
   "source": [
    "similarity_matrix = cosine_similarity(scaled_data)"
   ]
  },
  {
   "cell_type": "markdown",
   "id": "ab1b8243",
   "metadata": {},
   "source": [
    "### Find top 3 similar customers for each customer"
   ]
  },
  {
   "cell_type": "code",
   "execution_count": 7,
   "id": "771c5c62",
   "metadata": {},
   "outputs": [],
   "source": [
    "lookalike_results = {}\n",
    "for idx, customer_id in enumerate(customer_data['CustomerID']):\n",
    "    # Get similarity scores for the current customer\n",
    "    similarity_scores = list(enumerate(similarity_matrix[idx]))\n",
    "    # Sort by similarity score in descending order (excluding self)\n",
    "    similarity_scores = sorted(similarity_scores, key=lambda x: x[1], reverse=True)\n",
    "    top_3 = similarity_scores[1:4]  # Top 3 similar customers\n",
    "    lookalike_results[customer_id] = [(customer_data['CustomerID'][i], score) for i, score in top_3]"
   ]
  },
  {
   "cell_type": "code",
   "execution_count": 8,
   "id": "b5217fa0",
   "metadata": {},
   "outputs": [],
   "source": [
    "lookalike_df = pd.DataFrame({\n",
    "    \"CustomerID\": lookalike_results.keys(),\n",
    "    \"Top3Lookalikes\": [\n",
    "        [{\"CustomerID\": x[0], \"Score\": round(x[1], 2)} for x in lookalike_results[customer_id]]\n",
    "        for customer_id in lookalike_results.keys()\n",
    "    ]\n",
    "})"
   ]
  },
  {
   "cell_type": "code",
   "execution_count": 10,
   "id": "ac353b30",
   "metadata": {},
   "outputs": [
    {
     "name": "stdout",
     "output_type": "stream",
     "text": [
      "Lookalike results saved to Boopalamani_J_Lookalike.csv\n"
     ]
    }
   ],
   "source": [
    "lookalike_csv = \"Boopalamani_J_Lookalike.csv\"\n",
    "lookalike_df.to_csv(lookalike_csv, index=False)\n",
    "print(f\"Lookalike results saved to {lookalike_csv}\")"
   ]
  },
  {
   "cell_type": "code",
   "execution_count": null,
   "id": "b3b4a732",
   "metadata": {},
   "outputs": [],
   "source": []
  }
 ],
 "metadata": {
  "kernelspec": {
   "display_name": "Python 3 (ipykernel)",
   "language": "python",
   "name": "python3"
  },
  "language_info": {
   "codemirror_mode": {
    "name": "ipython",
    "version": 3
   },
   "file_extension": ".py",
   "mimetype": "text/x-python",
   "name": "python",
   "nbconvert_exporter": "python",
   "pygments_lexer": "ipython3",
   "version": "3.9.12"
  }
 },
 "nbformat": 4,
 "nbformat_minor": 5
}
